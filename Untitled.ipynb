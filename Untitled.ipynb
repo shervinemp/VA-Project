{
 "cells": [
  {
   "cell_type": "code",
   "execution_count": 1,
   "id": "c1d18abf-bbaf-4ccd-bc46-6bd743a8b1f6",
   "metadata": {},
   "outputs": [],
   "source": [
    "! antlr4 SCLang.g4 -Dlanguage=Python3 -visitor"
   ]
  },
  {
   "cell_type": "code",
   "execution_count": 47,
   "id": "d100b3bd-6bc4-49b3-8586-387fd5ba98ec",
   "metadata": {},
   "outputs": [],
   "source": [
    "import random\n",
    "from typing import Iterable\n",
    "from abc import ABC, abstractmethod\n",
    "\n",
    "class Generator(ABC):\n",
    "    def __init__(self, values, seed=0):\n",
    "        self._v = values\n",
    "        self._seed = seed\n",
    "    \n",
    "    @abstractmethod\n",
    "    def __call__(self):\n",
    "        pass\n",
    "\n",
    "class RandomGenerator(Generator):\n",
    "    def __init__(self, values, seed=0):\n",
    "        self._rng = random.Random(seed)\n",
    "        super(RandomGenerator, self).__init__(values=values, seed=seed)\n",
    "    \n",
    "    def __call__(self):\n",
    "        return self._rng.choice(self._v)\n",
    "\n",
    "class RoundRobinGenerator(Generator):\n",
    "    def __init__(self, values, seed=0):\n",
    "        self._offset = 0\n",
    "        super(RoundRobinGenerator, self).__init__(values=values, seed=seed)\n",
    "    \n",
    "    def __call__(self):\n",
    "        self._offset += 1\n",
    "        return self._v[(self._seed + self._offset - 1) % len(self._v)]"
   ]
  },
  {
   "cell_type": "code",
   "execution_count": 109,
   "id": "b42577b6-9c3a-4960-8d40-4436474a261f",
   "metadata": {},
   "outputs": [],
   "source": [
    "import yaml\n",
    "from types import SimpleNamespace\n",
    "from validator import RootSchema\n",
    "import sys\n",
    "from antlr4 import FileStream, CommonTokenStream\n",
    "from SCLangLexer import SCLangLexer\n",
    "from SCLangParser import SCLangParser\n",
    "from SCLangVisitor import SCLangVisitor\n",
    "\n",
    "class SkillManager:\n",
    "    def __init__(self, yaml_path, script_path):\n",
    "        self._yaml_file = self.__class__.load_yaml(yaml_path)\n",
    "        self._script_file = self.__class__.load_script(script_path)\n",
    "\n",
    "    @classmethod\n",
    "    def load_yaml(cls, yaml_path):\n",
    "        with open(yaml_path, 'r') as f:\n",
    "            data = yaml.safe_load(f)\n",
    "        validated = RootSchema(**data)\n",
    "        return validated\n",
    "    \n",
    "    @classmethod\n",
    "    def load_script(cls, script_path):\n",
    "        input_stream = FileStream(script_path)\n",
    "        lexer = SCLangLexer(input_stream)\n",
    "        stream = CommonTokenStream(lexer)\n",
    "        parser = SCLangParser(stream)\n",
    "        tree = parser.script()\n",
    "        if parser.getNumberOfSyntaxErrors() > 0:\n",
    "            print(\"Warning: syntax errors in the script.\")\n",
    "        else:\n",
    "            vinterp = SCLangVisitor()\n",
    "            vinterp.visit(tree)"
   ]
  },
  {
   "cell_type": "code",
   "execution_count": 110,
   "id": "b4d19593-e54f-4906-8e79-59bdbe11bed9",
   "metadata": {},
   "outputs": [
    {
     "name": "stdout",
     "output_type": "stream",
     "text": [
      "<SCLangVisitor.SCLangVisitor object at 0x79b46a1d2e60>\n"
     ]
    }
   ],
   "source": [
    "skill_manager = SkillManager(\"intents.yaml\", \"script.scl\")"
   ]
  },
  {
   "cell_type": "code",
   "execution_count": 104,
   "id": "f4ecd1b8-44e2-4454-98f4-b2aa6b1428bf",
   "metadata": {},
   "outputs": [],
   "source": [
    "skill_manager._script_file"
   ]
  }
 ],
 "metadata": {
  "kernelspec": {
   "display_name": "Python 3 (ipykernel)",
   "language": "python",
   "name": "python3"
  },
  "language_info": {
   "codemirror_mode": {
    "name": "ipython",
    "version": 3
   },
   "file_extension": ".py",
   "mimetype": "text/x-python",
   "name": "python",
   "nbconvert_exporter": "python",
   "pygments_lexer": "ipython3",
   "version": "3.10.9"
  }
 },
 "nbformat": 4,
 "nbformat_minor": 5
}
